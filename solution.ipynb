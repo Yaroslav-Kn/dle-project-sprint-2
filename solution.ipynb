{
 "cells": [
  {
   "cell_type": "markdown",
   "id": "176ae5fe",
   "metadata": {},
   "source": [
    "<div style=\"border-radius: 15px; border: 3px solid indigo; padding: 15px;\">\n",
    "<b> Комментарий ревьюера</b>\n",
    "    \n",
    "    \n",
    "Привет! Меня зовут Даниил Вяжев, я буду проверять твой проект. Если не против, давай общаться на «ты». Если тебе такой стиль общения не нравится, напиши об этом, будем на «вы».\n",
    "\n",
    "Сразу хочу обратить внимание на цветовую разметку:\n",
    "\n",
    "<div class=\"alert alert-success\" style=\"border-radius: 15px; box-shadow: 4px 4px 4px; border: 1px solid \">\n",
    "\n",
    "Зеленым с пометкой ✔️ отмечены отличные решения и идеи, которые можно и нужно использовать в будущем.\n",
    "</div>\n",
    "    \n",
    "<div class=\"alert alert-warning\" style=\"border-radius: 15px; box-shadow: 4px 4px 4px; border: 1px solid \">\n",
    "\n",
    "Желтым с пометкой ⚠️ отмечено то, что можно или нужно оптимизировать, в зависимости от контекста.</div>    \n",
    "    \n",
    "<div class=\"alert alert-danger\" style=\"border-radius: 15px; box-shadow: 4px 4px 4px; border: 1px solid \">\n",
    "\n",
    "Красным с пометкой ❌ обозначены пропущенные пункты задания и ошибки, которые обязательно надо будет исправить, чтобы результаты были верные.</div> \n",
    "    \n",
    "**Ответы на мои комментарии или доработки по моим рекомендациям попрошу выделить каким-нибудь цветом, кроме перечисленных.**\n",
    "Также я попрошу тебя **не менять, не передвигать и не удалять мои комментарии**, чтобы при последующей проверке мне было проще ориентироваться.\n",
    "        \n",
    "<hr>\n",
    "    \n",
    "<font color= 'dodgerblue'>**По проекту:**</font> \n",
    "Поздравляю тебя с успешным завершением работы над этим этапом проекта!\n",
    "    \n",
    "\n",
    "\n",
    "Отличная работа над проектом! Грамотный подход к решению сложной задачи: от тщательного EDA и качественной предобработки данных с продуманной обработкой специфики твитов, через грамотную реализацию датасетов и работы с последовательностями разной длины, до создания полноценной LSTM-модели с циклом обучения и валидации. Особенно радует твое внимание к деталям - очистке памяти, визуализации, логированию процесса и комплексному сравнению с трансформерной моделью.\n",
    "\n",
    "Ты успешно справился с ключевыми этапами ML-пайплайна, показал умение работать с разными архитектурами и критически анализировать результаты. Полученные метрики - хороший старт для задачи генерации текста, которая объективно сложна. Продолжай в том же духе!\n",
    "\n",
    "    \n",
    "<hr style=\"border-top: 3px solid purple; \"></hr>\n",
    "Комментарии можешь оставлять с помощью такого кода в Markdown ячейке:\n",
    "    \n",
    "    \n",
    "    <div class=\"alert alert-info\">\n",
    "    <h2> Комментарий студента</h2>\n",
    "\n",
    "    Тут текст.\n",
    "    </div>\n",
    "    \n",
    "    \n",
    "    <font color='red'> Этот код позволяет менять цвет текста. </font>     \n",
    "\n",
    "\n",
    "  \n",
    "\n",
    "О том, как **форматировать текст** в Markdown ячейке или как добавлять ссылки, ты можешь узнать [тут](https://sqlbak.com/blog/jupyter-notebook-markdown-cheatsheet) и [вот тут](https://medium.com/analytics-vidhya/the-ultimate-markdown-guide-for-jupyter-notebook-d5e5abf728fd).\n",
    "\n",
    "\n",
    "\n",
    "Желаю удачи!\n",
    "\n",
    "<img src=\"https://user-images.githubusercontent.com/74038190/225813708-98b745f2-7d22-48cf-9150-083f1b00d6c9.gif\" width=\"500\">\n",
    "</div>    \n",
    "\n"
   ]
  },
  {
   "cell_type": "markdown",
   "id": "7dc58254",
   "metadata": {},
   "source": [
    "# Нейросеть для автодополнения текстов"
   ]
  },
  {
   "cell_type": "markdown",
   "id": "86848cce",
   "metadata": {},
   "source": [
    "Проект направлен на обучение нейронной сети для автодополнения текста"
   ]
  },
  {
   "cell_type": "markdown",
   "id": "da31a7d5",
   "metadata": {},
   "source": [
    "Пропишим необходимые импорты и пути."
   ]
  },
  {
   "cell_type": "code",
   "execution_count": 80,
   "id": "a24f5196",
   "metadata": {},
   "outputs": [],
   "source": [
    "from collections import Counter\n",
    "import gc\n",
    "import ast\n",
    "\n",
    "import pandas as pd\n",
    "import numpy as np\n",
    "\n",
    "import re\n",
    "\n",
    "import torch\n",
    "from torch import nn\n",
    "from torch.utils.data import Dataset, DataLoader\n",
    "from torch.nn.utils.rnn import pad_sequence, pack_padded_sequence\n",
    "\n",
    "from transformers import AutoTokenizer, pipeline\n",
    "\n",
    "import matplotlib.pyplot as plt\n",
    "\n",
    "from tqdm import tqdm\n",
    "\n",
    "from sklearn.model_selection import train_test_split\n",
    "\n",
    "import evaluate"
   ]
  },
  {
   "cell_type": "code",
   "execution_count": 2,
   "id": "1dccae93",
   "metadata": {},
   "outputs": [],
   "source": [
    "PATH_ROW_DATA = 'data/raw_dataset.txt'\n",
    "PATH_PROCESSED_DATA = 'data/processed.csv'\n",
    "PATH_TRAIN_DATA = 'data/train.csv'\n",
    "PATH_VALID_DATA = 'data/valid.csv'\n",
    "PATH_TEST_DATA = 'data/test.csv'\n",
    "\n",
    "PATH_MODEL = 'models/model.pth'"
   ]
  },
  {
   "cell_type": "code",
   "execution_count": 3,
   "id": "15a1307b",
   "metadata": {},
   "outputs": [],
   "source": [
    "RANDOM_SEED = 123"
   ]
  },
  {
   "cell_type": "code",
   "execution_count": 4,
   "id": "1c2cc22f",
   "metadata": {},
   "outputs": [],
   "source": [
    "tqdm.pandas()"
   ]
  },
  {
   "cell_type": "markdown",
   "id": "898e8415",
   "metadata": {},
   "source": [
    "## EDA & Preprocessing"
   ]
  },
  {
   "cell_type": "markdown",
   "id": "34ca26b4",
   "metadata": {},
   "source": [
    "### Предобработка и исследование сырого датасета"
   ]
  },
  {
   "cell_type": "markdown",
   "id": "d2fe9f44",
   "metadata": {},
   "source": [
    "Прочитаем данные и посмотрим, что они из себя представляют (выведем первые 10 строк)"
   ]
  },
  {
   "cell_type": "code",
   "execution_count": 5,
   "id": "a52dab21",
   "metadata": {},
   "outputs": [],
   "source": [
    "with open(PATH_ROW_DATA, 'r', encoding='utf-8') as file:\n",
    "    texts = file.readlines()"
   ]
  },
  {
   "cell_type": "code",
   "execution_count": 6,
   "id": "ecf2aa13",
   "metadata": {},
   "outputs": [
    {
     "data": {
      "text/plain": [
       "[\"@switchfoot http://twitpic.com/2y1zl - Awww, that's a bummer.  You shoulda got David Carr of Third Day to do it. ;D\\n\",\n",
       " \"is upset that he can't update his Facebook by texting it... and might cry as a result  School today also. Blah!\\n\",\n",
       " '@Kenichan I dived many times for the ball. Managed to save 50%  The rest go out of bounds\\n',\n",
       " 'my whole body feels itchy and like its on fire \\n',\n",
       " \"@nationwideclass no, it's not behaving at all. i'm mad. why am i here? because I can't see you all over there. \\n\",\n",
       " '@Kwesidei not the whole crew \\n',\n",
       " 'Need a hug \\n',\n",
       " \"@LOLTrish hey  long time no see! Yes.. Rains a bit ,only a bit  LOL , I'm fine thanks , how's you ?\\n\",\n",
       " \"@Tatiana_K nope they didn't have it \\n\",\n",
       " '@twittera que me muera ? \\n']"
      ]
     },
     "execution_count": 6,
     "metadata": {},
     "output_type": "execute_result"
    }
   ],
   "source": [
    "texts[:10]"
   ]
  },
  {
   "cell_type": "markdown",
   "id": "e051ae1d",
   "metadata": {},
   "source": [
    "В данных видны следующие проблемы:\n",
    "1. Некоторые данные начинаютс с указания аккаунта который писал данный твит, а некоторые нет, поэтому эту часть необходимо удалить.\n",
    "2. Есть ссылки, поэтому их тоже необходимо зачистить.\n",
    "3. Все твиты из выведенных заканчиваются симоволом переноса строки, это тоже необходимо будет почистить.\n",
    "4. Есть смайлики. Необходимо посмотреть это только классические смайлики или ещё есть в формате \\*смайлик\\*.\n",
    "5. Необходимо всё привести к нижнему регистру."
   ]
  },
  {
   "cell_type": "markdown",
   "id": "92879541",
   "metadata": {},
   "source": [
    "Напишем функцию, которая решает данные проблемы."
   ]
  },
  {
   "cell_type": "code",
   "execution_count": 7,
   "id": "8982a1f2",
   "metadata": {},
   "outputs": [],
   "source": [
    "def clean_text(text: str) -> str:\n",
    "    text = text.lower()\n",
    "    text = re.sub(r'\\w*@\\w*', ' ', text) # убираем указани аккаунта и почты\n",
    "    text = re.sub(r'http\\S*', ' ', text) # убираем адреса\n",
    "\n",
    "    text = re.sub(r\"[:;=]['\\-]?[)d(p]+\", ' ', text) # убираем классические смайлики\n",
    "    text = re.sub(r'\\*\\w*\\*', ' ', text) # убираем смайлики прописанные в формате слов\n",
    "    # убираем самйлики в формате кодов\n",
    "    regrex_pattern = re.compile(pattern = \"[\"\n",
    "        u\"\\U0001F600-\\U0001F64F\"  # emoticons\n",
    "        u\"\\U0001F300-\\U0001F5FF\"  # symbols & pictographs\n",
    "        u\"\\U0001F680-\\U0001F6FF\"  # transport & map symbols\n",
    "        u\"\\U0001F1E0-\\U0001F1FF\"  # flags (iOS)\n",
    "                            \"]+\", flags = re.UNICODE)\n",
    "    text = regrex_pattern.sub(r'',text)\n",
    "\n",
    "    text = re.sub(r'\\s+([.,!?;:])', r'\\1', text) # убираем висячие знаки припинания\n",
    "    re.sub(r'([.,!?;:])([^\\s])', r'\\1 \\2', text) # добавляем пробелы после знаков припинания, если их нет\n",
    "\n",
    "    # заменяем все возможные пробелы, переносы и т.д. на стандартный символ пробела и затем заменяем 2 и более пробелов на 1\n",
    "    text = re.sub(r'_x000d_\\n', ' ', text)\n",
    "    text = re.sub(r'^\\s+|\\n', ' ', text)\n",
    "    text = re.sub(r'  ', ' ', text)\n",
    "    text = re.sub(r'^ +| +$', '', text) # убираем пробелы в начале и конце строки\n",
    "    return text"
   ]
  },
  {
   "cell_type": "markdown",
   "id": "c75db6e2",
   "metadata": {},
   "source": [
    "<div class=\"alert alert-success\" style=\"border-radius: 15px; box-shadow: 4px 4px 4px; border: 1px solid \">\n",
    "<b> Комментарий ревьюера  ✔️</b>\n",
    "    \n",
    "Функция clean_text очень тщательно обрабатывает текст, учитывая множество edge cases. Это хорошо!"
   ]
  },
  {
   "cell_type": "markdown",
   "id": "dfc32483",
   "metadata": {},
   "source": [
    "<div class=\"alert alert-warning\" style=\"border-radius: 15px; box-shadow: 4px 4px 4px; border: 1px solid \">\n",
    "<b> Комментарий ревьюера  ⚠️</b>\n",
    "    \n",
    "Результат операции не присваивается переменной text, поэтому этот код не работает. Нужно сохранить результат."
   ]
  },
  {
   "cell_type": "markdown",
   "id": "e4f2b06f",
   "metadata": {},
   "source": [
    "Протестируем на первом примере"
   ]
  },
  {
   "cell_type": "code",
   "execution_count": 8,
   "id": "9646d953",
   "metadata": {},
   "outputs": [
    {
     "data": {
      "text/plain": [
       "\"- awww, that's a bummer. you shoulda got david carr of third day to do it.\""
      ]
     },
     "execution_count": 8,
     "metadata": {},
     "output_type": "execute_result"
    }
   ],
   "source": [
    "clean_text(texts[0])"
   ]
  },
  {
   "cell_type": "markdown",
   "id": "921b043a",
   "metadata": {},
   "source": [
    "Всё отработало корректно. Почистим все данные и выведем первые 10 примеров."
   ]
  },
  {
   "cell_type": "code",
   "execution_count": 9,
   "id": "4244df8e",
   "metadata": {},
   "outputs": [
    {
     "name": "stderr",
     "output_type": "stream",
     "text": [
      "Очистка тестка: 100%|██████████| 1600498/1600498 [00:29<00:00, 54879.35it/s]\n"
     ]
    }
   ],
   "source": [
    "texts = [clean_text(text) for text in tqdm(texts, desc='Очистка тестка')]"
   ]
  },
  {
   "cell_type": "code",
   "execution_count": 10,
   "id": "d5a50216",
   "metadata": {},
   "outputs": [
    {
     "data": {
      "text/plain": [
       "[\"- awww, that's a bummer. you shoulda got david carr of third day to do it.\",\n",
       " \"is upset that he can't update his facebook by texting it... and might cry as a result school today also. blah!\",\n",
       " 'i dived many times for the ball. managed to save 50% the rest go out of bounds',\n",
       " 'my whole body feels itchy and like its on fire',\n",
       " \"no, it's not behaving at all. i'm mad. why am i here? because i can't see you all over there.\",\n",
       " 'not the whole crew',\n",
       " 'need a hug',\n",
       " \"hey long time no see! yes.. rains a bit,only a bit lol, i'm fine thanks, how's you?\",\n",
       " \"nope they didn't have it\",\n",
       " 'que me muera?']"
      ]
     },
     "execution_count": 10,
     "metadata": {},
     "output_type": "execute_result"
    }
   ],
   "source": [
    "texts[:10]"
   ]
  },
  {
   "cell_type": "markdown",
   "id": "a293beba",
   "metadata": {},
   "source": [
    "Посчитаем количество слов в предложениях."
   ]
  },
  {
   "cell_type": "code",
   "execution_count": 11,
   "id": "c727bf3f",
   "metadata": {},
   "outputs": [
    {
     "data": {
      "image/png": "[encoded data removed]",
      "text/plain": [
       "<Figure size 1000x600 with 1 Axes>"
      ]
     },
     "metadata": {},
     "output_type": "display_data"
    }
   ],
   "source": [
    "word_counts = [len(text.split(' ')) for text in texts]\n",
    "\n",
    "plt.figure(figsize=(10, 6))\n",
    "plt.hist(word_counts, bins=50, edgecolor='black')\n",
    "plt.title(\"Распределение количества слов в текстах\")\n",
    "plt.xlabel(\"Количество слов\")\n",
    "plt.ylabel(\"Частота\")\n",
    "plt.grid(True)\n",
    "plt.show() "
   ]
  },
  {
   "cell_type": "markdown",
   "id": "0135445e",
   "metadata": {},
   "source": [
    "<div class=\"alert alert-success\" style=\"border-radius: 15px; box-shadow: 4px 4px 4px; border: 1px solid \">\n",
    "<b> Комментарий ревьюера  ✔️</b>\n",
    "    \n",
    "Хорошие визуализации для анализа распределения данных."
   ]
  },
  {
   "cell_type": "markdown",
   "id": "2302d22f",
   "metadata": {},
   "source": [
    "Большинство твитов укладывается в 25 слов, но есть редкие твиты в которых порядка 60 слов. Так же есть много твитов состоящих всего из одного ответа."
   ]
  },
  {
   "cell_type": "markdown",
   "id": "1730afab",
   "metadata": {},
   "source": [
    "Посмотрим на количество предложений в которых количество слов превышает или равно 35."
   ]
  },
  {
   "cell_type": "code",
   "execution_count": 12,
   "id": "f8e25577",
   "metadata": {},
   "outputs": [
    {
     "data": {
      "text/plain": [
       "45"
      ]
     },
     "execution_count": 12,
     "metadata": {},
     "output_type": "execute_result"
    }
   ],
   "source": [
    "sum([count >= 35 for count in word_counts])"
   ]
  },
  {
   "cell_type": "markdown",
   "id": "93f4d1ac",
   "metadata": {},
   "source": [
    "Как видим таких твитов было всего лишь 45, поэтому разумно будет убрать их, что бы не делать слишком большие падинги для всех."
   ]
  },
  {
   "cell_type": "code",
   "execution_count": 13,
   "id": "88646941",
   "metadata": {},
   "outputs": [],
   "source": [
    "mask = [count < 35 for count in word_counts]\n",
    "texts = [item for item, mask_value in zip(texts, mask) if mask_value]"
   ]
  },
  {
   "cell_type": "markdown",
   "id": "641abedf",
   "metadata": {},
   "source": [
    "Посмотрим насколько часто каждое слово встречается в корпусе."
   ]
  },
  {
   "cell_type": "code",
   "execution_count": 14,
   "id": "46fe0fdf",
   "metadata": {},
   "outputs": [],
   "source": [
    "res = []\n",
    "[res.extend(text.split(' ')) for text in texts]\n",
    "\n",
    "count_of_words = Counter(res)"
   ]
  },
  {
   "cell_type": "markdown",
   "id": "cdb1dc61",
   "metadata": {},
   "source": [
    "Посмотрим на наиболее частые слова"
   ]
  },
  {
   "cell_type": "code",
   "execution_count": 15,
   "id": "1836a57f",
   "metadata": {},
   "outputs": [
    {
     "data": {
      "text/plain": [
       "[('i', 746460),\n",
       " ('to', 559664),\n",
       " ('the', 518774),\n",
       " ('a', 376417),\n",
       " ('my', 312774),\n",
       " ('and', 294964),\n",
       " ('you', 236360),\n",
       " ('is', 230800),\n",
       " ('for', 213732),\n",
       " ('in', 209798)]"
      ]
     },
     "execution_count": 15,
     "metadata": {},
     "output_type": "execute_result"
    }
   ],
   "source": [
    "count_of_words.most_common(10)"
   ]
  },
  {
   "cell_type": "markdown",
   "id": "8612478d",
   "metadata": {},
   "source": [
    "Ожидаемо это местоимения, артикли и предлоги"
   ]
  },
  {
   "cell_type": "markdown",
   "id": "e1437e33",
   "metadata": {},
   "source": [
    "Теперь на наиболее редкие"
   ]
  },
  {
   "cell_type": "code",
   "execution_count": 16,
   "id": "77dbcdf2",
   "metadata": {},
   "outputs": [
    {
     "data": {
      "text/plain": [
       "[('#flockofseagullsweregeopoliticallycorrect', 1),\n",
       " ('texn3rds', 1),\n",
       " ('calcio1', 1),\n",
       " ('indesign?:', 1),\n",
       " ('typeset', 1),\n",
       " ('waster)', 1),\n",
       " ('flay...', 1),\n",
       " ('(updated:', 1),\n",
       " ('$palm', 1)]"
      ]
     },
     "execution_count": 16,
     "metadata": {},
     "output_type": "execute_result"
    }
   ],
   "source": [
    "count_of_words.most_common()[:-10:-1]"
   ]
  },
  {
   "cell_type": "markdown",
   "id": "422bf764",
   "metadata": {},
   "source": [
    "Редкими оказались хэштеги, опечатки, в том числе с заменок букв на цифры, просто редкие слова плюс слова со знаками препинания (но в этом виновата наша разбивка)."
   ]
  },
  {
   "cell_type": "markdown",
   "id": "b0f9c0e7",
   "metadata": {},
   "source": [
    "### Токенизация и создание датасетов"
   ]
  },
  {
   "cell_type": "markdown",
   "id": "5c8cb9bd",
   "metadata": {},
   "source": [
    "Теперь проведём токенизацию нашего датасета."
   ]
  },
  {
   "cell_type": "code",
   "execution_count": 17,
   "id": "7be8bb66",
   "metadata": {},
   "outputs": [],
   "source": [
    "model_name = \"distilgpt2\"\n",
    "tokenizer = AutoTokenizer.from_pretrained(model_name)"
   ]
  },
  {
   "cell_type": "code",
   "execution_count": 18,
   "id": "177fbbaf",
   "metadata": {},
   "outputs": [
    {
     "name": "stderr",
     "output_type": "stream",
     "text": [
      "Очистка тестка: 100%|██████████| 1600453/1600453 [02:21<00:00, 11285.84it/s]\n"
     ]
    }
   ],
   "source": [
    "token_texts = [tokenizer(text, truncation=True)['input_ids'] for text in tqdm(texts, desc='Очистка тестка')]"
   ]
  },
  {
   "cell_type": "markdown",
   "id": "a26d457a",
   "metadata": {},
   "source": [
    "Посмотрим на результат"
   ]
  },
  {
   "cell_type": "code",
   "execution_count": 19,
   "id": "525d655d",
   "metadata": {},
   "outputs": [
    {
     "data": {
      "text/plain": [
       "[12,\n",
       " 257,\n",
       " 2503,\n",
       " 11,\n",
       " 326,\n",
       " 338,\n",
       " 257,\n",
       " 275,\n",
       " 31647,\n",
       " 13,\n",
       " 345,\n",
       " 815,\n",
       " 64,\n",
       " 1392,\n",
       " 21970,\n",
       " 1097,\n",
       " 81,\n",
       " 286,\n",
       " 2368,\n",
       " 1110,\n",
       " 284,\n",
       " 466,\n",
       " 340,\n",
       " 13]"
      ]
     },
     "execution_count": 19,
     "metadata": {},
     "output_type": "execute_result"
    }
   ],
   "source": [
    "token_texts[0]"
   ]
  },
  {
   "cell_type": "markdown",
   "id": "f67b2003",
   "metadata": {},
   "source": [
    "Иеперь нам необходимо сформировать три списка: один данные для обучения, второй - цели обучения, третий - оставшаяся часть текста начиная с цели обучения."
   ]
  },
  {
   "cell_type": "code",
   "execution_count": 20,
   "id": "c12fd4f5",
   "metadata": {},
   "outputs": [],
   "source": [
    "def get_data_and_target(token_texts: list[str]) -> tuple[list[str], list[str]]:\n",
    "    set_tuple = set()\n",
    "    data_list = []\n",
    "    target_list = []\n",
    "    end_list = []\n",
    "    for text in tqdm(token_texts, desc='Создание списков для обучения'):\n",
    "        start_point = int(len(text) / 4 * 3) # По заданию для генерации используем 3/4 текста\n",
    "        for idx_target in range(max(1, start_point), len(text)):\n",
    "            # Добавляем только уникальные сочетания data/target чтобы избежать дублей\n",
    "            item = ' '.join([str(i) for i in text[:idx_target + 1]])\n",
    "            if (item) not in set_tuple:\n",
    "                set_tuple.add(item)\n",
    "                data_list.append(text[:idx_target])\n",
    "                target_list.append(text[idx_target])\n",
    "                end_list.append(text[idx_target:])\n",
    "    return data_list, target_list, end_list"
   ]
  },
  {
   "cell_type": "markdown",
   "id": "a8258836",
   "metadata": {},
   "source": [
    "<div class=\"alert alert-warning\" style=\"border-radius: 15px; box-shadow: 4px 4px 4px; border: 1px solid \">\n",
    "<b> Комментарий ревьюера  ⚠️</b>\n",
    "    \n",
    "Использование set_tuple для проверки уникальности может привести к избыточному потреблению памяти, так как сохраняются строковые представления последовательностей. Вместо строк лучше использовать кортежи (tuple) для хэширования. Еще можно рассмотреть возможность отказа от проверки уникальности, если данные и так достаточно разнообразны, чтобы избежать затрат памяти."
   ]
  },
  {
   "cell_type": "code",
   "execution_count": 21,
   "id": "98ea7bf7",
   "metadata": {},
   "outputs": [
    {
     "name": "stderr",
     "output_type": "stream",
     "text": [
      "Создание списков для обучения: 100%|██████████| 1600453/1600453 [00:34<00:00, 46823.81it/s]\n"
     ]
    }
   ],
   "source": [
    "data_list, target_list, end_list = get_data_and_target(token_texts)"
   ]
  },
  {
   "cell_type": "markdown",
   "id": "b419b0af",
   "metadata": {},
   "source": [
    "Посмотрим корректно ли всё отработало"
   ]
  },
  {
   "cell_type": "code",
   "execution_count": 22,
   "id": "b189d53f",
   "metadata": {},
   "outputs": [
    {
     "data": {
      "text/plain": [
       "[[12,\n",
       "  257,\n",
       "  2503,\n",
       "  11,\n",
       "  326,\n",
       "  338,\n",
       "  257,\n",
       "  275,\n",
       "  31647,\n",
       "  13,\n",
       "  345,\n",
       "  815,\n",
       "  64,\n",
       "  1392,\n",
       "  21970,\n",
       "  1097,\n",
       "  81,\n",
       "  286],\n",
       " [12,\n",
       "  257,\n",
       "  2503,\n",
       "  11,\n",
       "  326,\n",
       "  338,\n",
       "  257,\n",
       "  275,\n",
       "  31647,\n",
       "  13,\n",
       "  345,\n",
       "  815,\n",
       "  64,\n",
       "  1392,\n",
       "  21970,\n",
       "  1097,\n",
       "  81,\n",
       "  286,\n",
       "  2368],\n",
       " [12,\n",
       "  257,\n",
       "  2503,\n",
       "  11,\n",
       "  326,\n",
       "  338,\n",
       "  257,\n",
       "  275,\n",
       "  31647,\n",
       "  13,\n",
       "  345,\n",
       "  815,\n",
       "  64,\n",
       "  1392,\n",
       "  21970,\n",
       "  1097,\n",
       "  81,\n",
       "  286,\n",
       "  2368,\n",
       "  1110],\n",
       " [12,\n",
       "  257,\n",
       "  2503,\n",
       "  11,\n",
       "  326,\n",
       "  338,\n",
       "  257,\n",
       "  275,\n",
       "  31647,\n",
       "  13,\n",
       "  345,\n",
       "  815,\n",
       "  64,\n",
       "  1392,\n",
       "  21970,\n",
       "  1097,\n",
       "  81,\n",
       "  286,\n",
       "  2368,\n",
       "  1110,\n",
       "  284],\n",
       " [12,\n",
       "  257,\n",
       "  2503,\n",
       "  11,\n",
       "  326,\n",
       "  338,\n",
       "  257,\n",
       "  275,\n",
       "  31647,\n",
       "  13,\n",
       "  345,\n",
       "  815,\n",
       "  64,\n",
       "  1392,\n",
       "  21970,\n",
       "  1097,\n",
       "  81,\n",
       "  286,\n",
       "  2368,\n",
       "  1110,\n",
       "  284,\n",
       "  466]]"
      ]
     },
     "execution_count": 22,
     "metadata": {},
     "output_type": "execute_result"
    }
   ],
   "source": [
    "data_list[:5]"
   ]
  },
  {
   "cell_type": "code",
   "execution_count": 23,
   "id": "e8bbc3a9",
   "metadata": {},
   "outputs": [
    {
     "data": {
      "text/plain": [
       "[2368, 1110, 284, 466, 340]"
      ]
     },
     "execution_count": 23,
     "metadata": {},
     "output_type": "execute_result"
    }
   ],
   "source": [
    "target_list[:5]"
   ]
  },
  {
   "cell_type": "code",
   "execution_count": 24,
   "id": "e850d1d7",
   "metadata": {},
   "outputs": [
    {
     "data": {
      "text/plain": [
       "[[2368, 1110, 284, 466, 340, 13],\n",
       " [1110, 284, 466, 340, 13],\n",
       " [284, 466, 340, 13],\n",
       " [466, 340, 13],\n",
       " [340, 13]]"
      ]
     },
     "execution_count": 24,
     "metadata": {},
     "output_type": "execute_result"
    }
   ],
   "source": [
    "end_list[:5]"
   ]
  },
  {
   "cell_type": "markdown",
   "id": "f96c9e3b",
   "metadata": {},
   "source": [
    "Всё отработало корректно. Теперь создадим датафрейм и сохраним его"
   ]
  },
  {
   "cell_type": "code",
   "execution_count": 25,
   "id": "2d5b97d4",
   "metadata": {},
   "outputs": [
    {
     "data": {
      "text/html": [
       "<div>\n",
       "<style scoped>\n",
       "    .dataframe tbody tr th:only-of-type {\n",
       "        vertical-align: middle;\n",
       "    }\n",
       "\n",
       "    .dataframe tbody tr th {\n",
       "        vertical-align: top;\n",
       "    }\n",
       "\n",
       "    .dataframe thead th {\n",
       "        text-align: right;\n",
       "    }\n",
       "</style>\n",
       "<table border=\"1\" class=\"dataframe\">\n",
       "  <thead>\n",
       "    <tr style=\"text-align: right;\">\n",
       "      <th></th>\n",
       "      <th>data</th>\n",
       "      <th>target</th>\n",
       "      <th>end_text</th>\n",
       "    </tr>\n",
       "  </thead>\n",
       "  <tbody>\n",
       "    <tr>\n",
       "      <th>0</th>\n",
       "      <td>[12, 257, 2503, 11, 326, 338, 257, 275, 31647,...</td>\n",
       "      <td>2368</td>\n",
       "      <td>[2368, 1110, 284, 466, 340, 13]</td>\n",
       "    </tr>\n",
       "    <tr>\n",
       "      <th>1</th>\n",
       "      <td>[12, 257, 2503, 11, 326, 338, 257, 275, 31647,...</td>\n",
       "      <td>1110</td>\n",
       "      <td>[1110, 284, 466, 340, 13]</td>\n",
       "    </tr>\n",
       "    <tr>\n",
       "      <th>2</th>\n",
       "      <td>[12, 257, 2503, 11, 326, 338, 257, 275, 31647,...</td>\n",
       "      <td>284</td>\n",
       "      <td>[284, 466, 340, 13]</td>\n",
       "    </tr>\n",
       "    <tr>\n",
       "      <th>3</th>\n",
       "      <td>[12, 257, 2503, 11, 326, 338, 257, 275, 31647,...</td>\n",
       "      <td>466</td>\n",
       "      <td>[466, 340, 13]</td>\n",
       "    </tr>\n",
       "    <tr>\n",
       "      <th>4</th>\n",
       "      <td>[12, 257, 2503, 11, 326, 338, 257, 275, 31647,...</td>\n",
       "      <td>340</td>\n",
       "      <td>[340, 13]</td>\n",
       "    </tr>\n",
       "  </tbody>\n",
       "</table>\n",
       "</div>"
      ],
      "text/plain": [
       "                                                data  target  \\\n",
       "0  [12, 257, 2503, 11, 326, 338, 257, 275, 31647,...    2368   \n",
       "1  [12, 257, 2503, 11, 326, 338, 257, 275, 31647,...    1110   \n",
       "2  [12, 257, 2503, 11, 326, 338, 257, 275, 31647,...     284   \n",
       "3  [12, 257, 2503, 11, 326, 338, 257, 275, 31647,...     466   \n",
       "4  [12, 257, 2503, 11, 326, 338, 257, 275, 31647,...     340   \n",
       "\n",
       "                          end_text  \n",
       "0  [2368, 1110, 284, 466, 340, 13]  \n",
       "1        [1110, 284, 466, 340, 13]  \n",
       "2              [284, 466, 340, 13]  \n",
       "3                   [466, 340, 13]  \n",
       "4                        [340, 13]  "
      ]
     },
     "execution_count": 25,
     "metadata": {},
     "output_type": "execute_result"
    }
   ],
   "source": [
    "df = pd.DataFrame({\n",
    "    'data': data_list,\n",
    "    'target': target_list,\n",
    "    'end_text': end_list\n",
    "})\n",
    "df.head()"
   ]
  },
  {
   "cell_type": "code",
   "execution_count": 26,
   "id": "83a034d6",
   "metadata": {},
   "outputs": [
    {
     "data": {
      "text/plain": [
       "(7337114, 3)"
      ]
     },
     "execution_count": 26,
     "metadata": {},
     "output_type": "execute_result"
    }
   ],
   "source": [
    "df.shape"
   ]
  },
  {
   "cell_type": "markdown",
   "id": "00b4ab07",
   "metadata": {},
   "source": [
    "Сохраним полученный датафрейм"
   ]
  },
  {
   "cell_type": "code",
   "execution_count": 27,
   "id": "cebd88f3",
   "metadata": {},
   "outputs": [],
   "source": [
    "df.to_csv(PATH_PROCESSED_DATA, index=False)"
   ]
  },
  {
   "cell_type": "markdown",
   "id": "37d10028",
   "metadata": {},
   "source": [
    "Разделим датасет на тренировочный, валидационный и тестовый"
   ]
  },
  {
   "cell_type": "code",
   "execution_count": 28,
   "id": "afc71136",
   "metadata": {},
   "outputs": [],
   "source": [
    "df_train, df_test= train_test_split(df, test_size=0.2, random_state=RANDOM_SEED)\n",
    "df_valid, df_test = train_test_split(df_test, test_size=0.5, random_state=RANDOM_SEED)"
   ]
  },
  {
   "cell_type": "markdown",
   "id": "c5808acd",
   "metadata": {},
   "source": [
    "Выведем размеры получившихся датасетов"
   ]
  },
  {
   "cell_type": "code",
   "execution_count": 29,
   "id": "2de78614",
   "metadata": {},
   "outputs": [
    {
     "data": {
      "text/plain": [
       "((5869691, 3), (733711, 3), (733712, 3))"
      ]
     },
     "execution_count": 29,
     "metadata": {},
     "output_type": "execute_result"
    }
   ],
   "source": [
    "df_train.shape, df_valid.shape, df_test.shape"
   ]
  },
  {
   "cell_type": "code",
   "execution_count": 30,
   "id": "6d8f05c4",
   "metadata": {},
   "outputs": [],
   "source": [
    "df_train = df_train.reset_index(drop=True)\n",
    "df_valid = df_valid.reset_index(drop=True)\n",
    "df_test = df_test.reset_index(drop=True)"
   ]
  },
  {
   "cell_type": "markdown",
   "id": "3931834d",
   "metadata": {},
   "source": [
    "Сохраним их."
   ]
  },
  {
   "cell_type": "code",
   "execution_count": 31,
   "id": "a6585a92",
   "metadata": {},
   "outputs": [],
   "source": [
    "df_train.to_csv(PATH_TRAIN_DATA, index=False)\n",
    "df_valid.to_csv(PATH_VALID_DATA, index=False)\n",
    "df_test.to_csv(PATH_TEST_DATA, index=False)"
   ]
  },
  {
   "cell_type": "markdown",
   "id": "e3631d51",
   "metadata": {},
   "source": [
    "Удалим ненужные перемнные, чтобы не засорять память."
   ]
  },
  {
   "cell_type": "code",
   "execution_count": 32,
   "id": "2271e12c",
   "metadata": {},
   "outputs": [
    {
     "data": {
      "text/plain": [
       "0"
      ]
     },
     "execution_count": 32,
     "metadata": {},
     "output_type": "execute_result"
    }
   ],
   "source": [
    "del texts, token_texts, df\n",
    "gc.collect()"
   ]
  },
  {
   "cell_type": "markdown",
   "id": "82b23c5d",
   "metadata": {},
   "source": [
    "<div class=\"alert alert-success\" style=\"border-radius: 15px; box-shadow: 4px 4px 4px; border: 1px solid \">\n",
    "<b> Комментарий ревьюера  ✔️</b>\n",
    "    \n",
    "Отличное использование gc.collect() и удаление ненужных переменных для оптимизации использования памяти!"
   ]
  },
  {
   "cell_type": "markdown",
   "id": "592d64dc",
   "metadata": {},
   "source": [
    "## Modeling"
   ]
  },
  {
   "cell_type": "markdown",
   "id": "cf7c05ab",
   "metadata": {},
   "source": [
    "Поскольку в качестве метрики будем использовать rouge, то сразу загрузим ей"
   ]
  },
  {
   "cell_type": "code",
   "execution_count": 33,
   "id": "dd73beda",
   "metadata": {},
   "outputs": [],
   "source": [
    "rouge = evaluate.load(\"rouge\")"
   ]
  },
  {
   "cell_type": "markdown",
   "id": "80b34c40",
   "metadata": {},
   "source": [
    "<div class=\"alert alert-success\" style=\"border-radius: 15px; box-shadow: 4px 4px 4px; border: 1px solid \">\n",
    "<b> Комментарий ревьюера  ✔️</b>\n",
    "    \n",
    "Отличное использование метрик и сравнение с baseline-моделью!"
   ]
  },
  {
   "cell_type": "markdown",
   "id": "f1baf4a2",
   "metadata": {},
   "source": [
    "Также проверим доступна ли нам cuda и присвоим соответствующее значение переменной device"
   ]
  },
  {
   "cell_type": "code",
   "execution_count": 34,
   "id": "fb820cbe",
   "metadata": {},
   "outputs": [
    {
     "name": "stdout",
     "output_type": "stream",
     "text": [
      "cuda\n"
     ]
    }
   ],
   "source": [
    "if torch.cuda.is_available():\n",
    "    device = 'cuda'\n",
    "else:\n",
    "    device='cpu'\n",
    "\n",
    "print(device)"
   ]
  },
  {
   "cell_type": "markdown",
   "id": "46bfebf7",
   "metadata": {},
   "source": [
    "### Создание Даталоадеров"
   ]
  },
  {
   "cell_type": "markdown",
   "id": "8b466fd9",
   "metadata": {},
   "source": [
    "Зададим максимальную длину последовательности (как мы знаем она у нас не превышает 35), а также получен токен для паддинга."
   ]
  },
  {
   "cell_type": "code",
   "execution_count": 35,
   "id": "cddc8ad7",
   "metadata": {},
   "outputs": [],
   "source": [
    "MAX_LEN = 35\n",
    "PAD_TOKEN = tokenizer.pad_token_type_id"
   ]
  },
  {
   "cell_type": "markdown",
   "id": "2886b771",
   "metadata": {},
   "source": [
    "<div class=\"alert alert-warning\" style=\"border-radius: 15px; box-shadow: 4px 4px 4px; border: 1px solid \">\n",
    "<b> Комментарий ревьюера  ⚠️</b>\n",
    "    \n",
    "Переменная PAD_TOKEN определена как tokenizer.pad_token_type_id, но для паддинга обычно используется tokenizer.pad_token_id. Это может привести к некорректному паддингу."
   ]
  },
  {
   "cell_type": "markdown",
   "id": "fdd7d8b8",
   "metadata": {},
   "source": [
    "Напишем класс датасета"
   ]
  },
  {
   "cell_type": "code",
   "execution_count": 36,
   "id": "1ebc2e70",
   "metadata": {},
   "outputs": [],
   "source": [
    "class Custom_Dataset(Dataset):\n",
    "    def __init__(self, df: pd.DataFrame):\n",
    "        self.data = df['data']\n",
    "        self.target = df['target']\n",
    "        self.end_text = df['end_text']\n",
    "\n",
    "    def __len__(self) -> int:\n",
    "        return len(self.target)\n",
    "    \n",
    "    def __getitem__(self, index):\n",
    "        return {\n",
    "            'data': torch.tensor(self.data[index], dtype=torch.long),\n",
    "            'target': torch.tensor(self.target[index], dtype=torch.long),\n",
    "            'end_text': torch.tensor(self.end_text[index], dtype=torch.long),\n",
    "        }"
   ]
  },
  {
   "cell_type": "markdown",
   "id": "4c423ebc",
   "metadata": {},
   "source": [
    "Создадим функцию collate_fn для более эффективного создания паддингов"
   ]
  },
  {
   "cell_type": "code",
   "execution_count": 37,
   "id": "e8d47cb7",
   "metadata": {},
   "outputs": [],
   "source": [
    "def collate_fn(batch):\n",
    "    data = [i['data'] for i in batch]\n",
    "    target = torch.stack([i['target'] for i in batch])\n",
    "    end_text = [i['end_text'] for i in batch]\n",
    "    max_len = max([len(i) for i in data])\n",
    "    max_len = min([MAX_LEN, max_len])\n",
    "\n",
    "    pad_text = pad_sequence(data, batch_first=True, padding_value=PAD_TOKEN)\n",
    "\n",
    "    masks = (pad_text != 0).long()\n",
    "\n",
    "    return {\n",
    "        'data': pad_text,\n",
    "        'target': target,\n",
    "        'end_text': end_text,\n",
    "        'masks': masks\n",
    "    }   "
   ]
  },
  {
   "cell_type": "markdown",
   "id": "f5618700",
   "metadata": {},
   "source": [
    "<div class=\"alert alert-success\" style=\"border-radius: 15px; box-shadow: 4px 4px 4px; border: 1px solid \">\n",
    "<b> Комментарий ревьюера  ✔️</b>\n",
    "    \n",
    "Отличная реализация collate_fn с паддингом и созданием масок внимания. Молодец!"
   ]
  },
  {
   "cell_type": "markdown",
   "id": "88219d74",
   "metadata": {},
   "source": [
    "Создадим датасеты и даталоадеры и протестируем корректность работы кода."
   ]
  },
  {
   "cell_type": "code",
   "execution_count": 38,
   "id": "8050f6a9",
   "metadata": {},
   "outputs": [],
   "source": [
    "train_dataset = Custom_Dataset(df_train)\n",
    "valid_dataset = Custom_Dataset(df_valid)\n",
    "test_dataset = Custom_Dataset(df_test)"
   ]
  },
  {
   "cell_type": "code",
   "execution_count": 39,
   "id": "0ff90474",
   "metadata": {},
   "outputs": [],
   "source": [
    "train_dataloader = DataLoader(train_dataset, batch_size=128, collate_fn=collate_fn, shuffle=True)\n",
    "valid_dataloader = DataLoader(valid_dataset, batch_size=128, collate_fn=collate_fn, shuffle=False)\n",
    "test_dataloader = DataLoader(test_dataset, batch_size=32, collate_fn=collate_fn, shuffle=False)"
   ]
  },
  {
   "cell_type": "markdown",
   "id": "40a8d687",
   "metadata": {},
   "source": [
    "Создадим отдельный даталоадер для эксперимента с меньшим размером батча"
   ]
  },
  {
   "cell_type": "code",
   "execution_count": 40,
   "id": "7cbd22b3",
   "metadata": {},
   "outputs": [],
   "source": [
    "exp_dataloader = DataLoader(train_dataset, batch_size=3, collate_fn=collate_fn, shuffle=False)"
   ]
  },
  {
   "cell_type": "code",
   "execution_count": 41,
   "id": "8f52c2df",
   "metadata": {},
   "outputs": [
    {
     "name": "stdout",
     "output_type": "stream",
     "text": [
      "data:\n",
      " tensor([[20342,   492,   703,   373,   262,  3491, 30784,  3807,   492,  1312,\n",
      "           691,   760,   530,  1048,   508,  2497,   340,  4145,     0,     0,\n",
      "             0,     0],\n",
      "        [ 8807,  1760,   604,  2250,   290,  2319, 23550,   286, 18440,   523,\n",
      "          1290,  1909,   986,  1521,   423,  1312,  1716,   523, 16931,  3548,\n",
      "         14643,   783],\n",
      "        [ 5832,   821,   884,   257,     0,     0,     0,     0,     0,     0,\n",
      "             0,     0,     0,     0,     0,     0,     0,     0,     0,     0,\n",
      "             0,     0]])\n",
      "target:\n",
      " tensor([ 1290,    11, 16443])\n",
      "end_text: [tensor([ 1290,    11,   523,  1312,   373, 11040]), tensor([ 11, 788, 275,  65,  13]), tensor([16443,  3956])]\n",
      "masks: tensor([[1, 1, 1, 1, 1, 1, 1, 1, 1, 1, 1, 1, 1, 1, 1, 1, 1, 1, 0, 0, 0, 0],\n",
      "        [1, 1, 1, 1, 1, 1, 1, 1, 1, 1, 1, 1, 1, 1, 1, 1, 1, 1, 1, 1, 1, 1],\n",
      "        [1, 1, 1, 1, 0, 0, 0, 0, 0, 0, 0, 0, 0, 0, 0, 0, 0, 0, 0, 0, 0, 0]])\n"
     ]
    }
   ],
   "source": [
    "for batch in exp_dataloader:\n",
    "    print('data:\\n', batch['data'])\n",
    "    print('target:\\n', batch['target'])\n",
    "    print('end_text:', batch['end_text'])\n",
    "    print('masks:', batch['masks'])\n",
    "    break"
   ]
  },
  {
   "cell_type": "markdown",
   "id": "00135f12",
   "metadata": {},
   "source": [
    "Всё работает корректно, удалим экспериментальный даталоадер"
   ]
  },
  {
   "cell_type": "code",
   "execution_count": 42,
   "id": "ca7716f7",
   "metadata": {},
   "outputs": [
    {
     "data": {
      "text/plain": [
       "423"
      ]
     },
     "execution_count": 42,
     "metadata": {},
     "output_type": "execute_result"
    }
   ],
   "source": [
    "del exp_dataloader\n",
    "gc.collect()"
   ]
  },
  {
   "cell_type": "markdown",
   "id": "f86cf496",
   "metadata": {},
   "source": [
    "### Создание LSTM модели."
   ]
  },
  {
   "cell_type": "markdown",
   "id": "85af7aee",
   "metadata": {},
   "source": [
    "Создадим класс модели."
   ]
  },
  {
   "cell_type": "code",
   "execution_count": 43,
   "id": "e5016952",
   "metadata": {},
   "outputs": [],
   "source": [
    "class LSTMGenerator(nn.Module):\n",
    "    def __init__(self, tokenizer, embedding_dim=128, hidden_dim=128):\n",
    "        super().__init__()\n",
    "        self.tokenizer = tokenizer\n",
    "\n",
    "        self.embeding = nn.Embedding(tokenizer.vocab_size, embedding_dim)\n",
    "        self.lstm = nn.LSTM(embedding_dim, embedding_dim, batch_first=True)\n",
    "        self.norm = nn.LayerNorm(hidden_dim)\n",
    "        self.dropout = nn.Dropout(0.3)\n",
    "        self.fc = nn.Linear(hidden_dim, tokenizer.vocab_size)\n",
    "\n",
    "    def forward(self, input_ids, attention_mask):\n",
    "        x = self.embeding(input_ids)\n",
    "        rnn_out, _ = self.lstm(x)\n",
    "\n",
    "        rnn_out_normed = self.norm(rnn_out)\n",
    "\n",
    "        mask = attention_mask.unsqueeze(2).expand_as(rnn_out_normed)\n",
    "        masked_out = rnn_out_normed * mask\n",
    "        summed = masked_out.sum(dim=1)\n",
    "        lengths = attention_mask.sum(dim=1).unsqueeze(1)\n",
    "        mean_pooled = summed / lengths\n",
    "\n",
    "        out = self.dropout(mean_pooled)\n",
    "        logits = self.fc(out)\n",
    "\n",
    "        return logits\n",
    "    \n",
    "    def generate(self, input_ids, attention_mask, max_len=20):\n",
    "        num_words = 0\n",
    "        while num_words < max_len:\n",
    "            logits = self.forward(input_ids, attention_mask)\n",
    "            token = logits.argmax(dim=1)\n",
    "\n",
    "            # input_ids = torch.cat((input_ids[0], torch.tensor([token]).to(device))).unsqueeze(dim=0)\n",
    "            # attention_mask = torch.cat((attention_mask[0], torch.tensor([1]).to(device))).unsqueeze(dim=0)\n",
    "\n",
    "            input_ids = torch.cat([input_ids, token.unsqueeze(dim=1)], dim=1)\n",
    "            new_token_mask = (token != tokenizer.eos_token_id).long()\n",
    "            attention_mask = torch.cat([attention_mask, new_token_mask.unsqueeze(dim=1)], dim=1)\n",
    "            \n",
    "            num_words += 1\n",
    "\n",
    "            # раняя остановка, если все новые токены стали eos\n",
    "            if new_token_mask.sum() == 0:\n",
    "                return input_ids.to('cpu')   \n",
    "                               \n",
    "        return input_ids.to('cpu')"
   ]
  },
  {
   "cell_type": "markdown",
   "id": "6881a3ea",
   "metadata": {},
   "source": [
    "<div class=\"alert alert-warning\" style=\"border-radius: 15px; box-shadow: 4px 4px 4px; border: 1px solid \">\n",
    "<b> Комментарий ревьюера  ⚠️</b>\n",
    "    \n",
    "В методе generate используется конкатенация токенов без ограничения длины, что может привести к превышению MAX_LEN. Рекомендую использовать masked pooling или берите последний hidden state вместо усреднения по всем временным шагам, так как для генерации важен контекст конца последовательности."
   ]
  },
  {
   "cell_type": "code",
   "execution_count": 44,
   "id": "af834443",
   "metadata": {},
   "outputs": [],
   "source": [
    "model = LSTMGenerator(tokenizer).to(device)"
   ]
  },
  {
   "cell_type": "markdown",
   "id": "7b46068a",
   "metadata": {},
   "source": [
    "Создадим оптимайзер и критерий оцнивания"
   ]
  },
  {
   "cell_type": "code",
   "execution_count": 45,
   "id": "c02ea1fc",
   "metadata": {},
   "outputs": [],
   "source": [
    "optimizer = torch.optim.Adam(params=model.parameters(),  lr=2e-3)\n",
    "criterion = nn.CrossEntropyLoss()"
   ]
  },
  {
   "cell_type": "markdown",
   "id": "ad29f038",
   "metadata": {},
   "source": [
    "Напишем функцию для тренировки 1 эпохи"
   ]
  },
  {
   "cell_type": "code",
   "execution_count": 46,
   "id": "b07eb955",
   "metadata": {},
   "outputs": [],
   "source": [
    "def train_epoch(model: LSTMGenerator, loader: DataLoader) -> float:\n",
    "    train_loss = 0\n",
    "    model.train()\n",
    "    for batch in loader:\n",
    "        data = batch['data'].to(device)\n",
    "        masks = batch['masks'].to(device)\n",
    "        target = batch['target'].to(device)\n",
    "\n",
    "        optimizer.zero_grad()\n",
    "        output = model(data, masks)\n",
    "        loss = criterion(output, target)\n",
    "\n",
    "        loss.backward()\n",
    "        optimizer.step()\n",
    "\n",
    "        train_loss += loss\n",
    "    \n",
    "    return train_loss / len(loader)"
   ]
  },
  {
   "cell_type": "markdown",
   "id": "dd837e80",
   "metadata": {},
   "source": [
    "Напишем функцию для валидации"
   ]
  },
  {
   "cell_type": "code",
   "execution_count": 47,
   "id": "b115a834",
   "metadata": {},
   "outputs": [],
   "source": [
    "def eval(model: LSTMGenerator, loader: DataLoader) -> float:\n",
    "    valid_loss = 0\n",
    "    preds, trues = [], []\n",
    "    model.eval()\n",
    "\n",
    "    for batch in loader:\n",
    "        data = batch['data'].to(device)\n",
    "        masks = batch['masks'].to(device)\n",
    "        target = batch['target'].to(device)\n",
    "\n",
    "        with torch.no_grad():\n",
    "            output = model(data, masks)\n",
    "            loss = criterion(output, target)\n",
    "            valid_loss += loss\n",
    "\n",
    "            preds += torch.argmax(output.squeeze(1), dim=1).cpu().tolist()\n",
    "            trues += target.tolist()\n",
    "\n",
    "    preds = [tokenizer.decode(pred) for pred in preds]\n",
    "    trues = [tokenizer.decode(true) for true in trues]\n",
    "\n",
    "    return valid_loss / len(loader), rouge.compute(predictions = preds, references = trues)['rouge1']"
   ]
  },
  {
   "cell_type": "markdown",
   "id": "2c0f081b",
   "metadata": {},
   "source": [
    "Напишем основной цикл обучения"
   ]
  },
  {
   "cell_type": "code",
   "execution_count": 48,
   "id": "aa6f180c",
   "metadata": {},
   "outputs": [
    {
     "name": "stdout",
     "output_type": "stream",
     "text": [
      "Epoch 1: Train loss = 6.1437\n",
      "Epoch 1: Valid loss = 5.6641, Rouge1 = 0.0837\n",
      "Epoch 11: Train loss = 5.5574\n",
      "Epoch 11: Valid loss = 5.4631, Rouge1 = 0.1011\n",
      "Epoch 21: Train loss = 5.5816\n",
      "Epoch 21: Valid loss = 5.5163, Rouge1 = 0.0976\n",
      "--------------------\n",
      "Best epoch: 16\n",
      "Best validation loss: 5.4502\n",
      "Best metric rouge1: 0.1024\n"
     ]
    }
   ],
   "source": [
    "PATION = 10\n",
    "best_val = np.inf\n",
    "train_losses = []\n",
    "valid_losses = []\n",
    "metrics = []\n",
    "\n",
    "best_epoch = 0\n",
    "no_improve_epochs = 0\n",
    "\n",
    "for epoch in range(200):\n",
    "    train_loss = train_epoch(model, train_dataloader)\n",
    "    valid_loss, rouge1 = eval(model, valid_dataloader)\n",
    "\n",
    "    train_losses.append(train_loss.item())\n",
    "    valid_losses.append(valid_loss.item())\n",
    "    metrics.append(rouge1)\n",
    "\n",
    "    if valid_loss < best_val:\n",
    "        best_val = valid_loss\n",
    "        best_epoch = epoch\n",
    "        no_improve_epochs = 0\n",
    "        torch.save(model.state_dict(), PATH_MODEL)\n",
    "\n",
    "    else:\n",
    "        no_improve_epochs += 1\n",
    "        if no_improve_epochs > PATION:\n",
    "            break\n",
    "\n",
    "    if epoch % 10 == 0:\n",
    "        print(f\"Epoch {epoch+1}: Train loss = {train_loss:.4f}\")\n",
    "        print(f\"Epoch {epoch+1}: Valid loss = {valid_loss:.4f}, Rouge1 = {rouge1:.4f}\") \n",
    "\n",
    "print('-' * 20)\n",
    "print(f'Best epoch: {best_epoch + 1}')\n",
    "print(f'Best validation loss: {best_val:.4f}')\n",
    "print(f'Best metric rouge1: {metrics[best_epoch]:.4f}')"
   ]
  },
  {
   "cell_type": "markdown",
   "id": "c3374e92",
   "metadata": {},
   "source": [
    "<div class=\"alert alert-success\" style=\"border-radius: 15px; box-shadow: 4px 4px 4px; border: 1px solid \">\n",
    "<b> Комментарий ревьюера  ✔️</b>\n",
    "    \n",
    "Хорошо реализованный тренировочный цикл с early stopping и сохранением лучшей модели."
   ]
  },
  {
   "cell_type": "markdown",
   "id": "54746cdb",
   "metadata": {},
   "source": [
    "<div class=\"alert alert-warning\" style=\"border-radius: 15px; box-shadow: 4px 4px 4px; border: 1px solid \">\n",
    "<b> Комментарий ревьюера  ⚠️</b>\n",
    "    \n",
    "Советую использовать Learning Rate Scheduler (например, ReduceLROnPlateau) для улучшения сходимости."
   ]
  },
  {
   "cell_type": "markdown",
   "id": "2d7a835d",
   "metadata": {},
   "source": [
    "Построим графики лоссов и метрики"
   ]
  },
  {
   "cell_type": "code",
   "execution_count": 49,
   "id": "333ff9b2",
   "metadata": {},
   "outputs": [
    {
     "data": {
      "image/png": "[encoded data removed]",
      "text/plain": [
       "<Figure size 1200x700 with 2 Axes>"
      ]
     },
     "metadata": {},
     "output_type": "display_data"
    }
   ],
   "source": [
    "fig, axes = plt.subplots(2, 1, figsize=(12, 7))\n",
    "plt.subplots_adjust(hspace=0.3)\n",
    "\n",
    "axes[0].set_title(f\"Graph of losses\")\n",
    "axes[0].plot(list(range(1, len(train_losses) + 1)), train_losses, label='train')\n",
    "axes[0].plot(list(range(1, len(valid_losses) + 1)), valid_losses, label='train')\n",
    "axes[0].axvline(best_epoch + 1, linestyle='--', color='r')\n",
    "axes[0].legend()\n",
    "axes[0].grid()\n",
    "axes[0].text(best_epoch + 1,\n",
    "            max([min(train_losses), min(valid_losses)]) + 0.3 * (max(train_losses) - min(train_losses)),\n",
    "            f'best epoch = {best_epoch + 1}',\n",
    "            size=10,\n",
    "            alpha=0.8,\n",
    "            rotation='vertical',\n",
    "            ha=\"center\",\n",
    "            va=\"bottom\",\n",
    "            bbox=dict(boxstyle=\"round\",\n",
    "                    ec=(1., 0.5, 0.5),\n",
    "                    fc=(1., 0.8, 0.8),\n",
    "                    )\n",
    "            )\n",
    "\n",
    "\n",
    "axes[1].set_title(f\"Graph of metric rouge1\")\n",
    "axes[1].plot(list(range(1, len(metrics) + 1)), metrics)\n",
    "axes[1].axvline(best_epoch + 1, linestyle='--', color='r')\n",
    "axes[1].grid()\n",
    "axes[1].text(best_epoch + 1,\n",
    "            min(metrics) + 0.1 * (max(metrics) - min(metrics)),\n",
    "            f'best epoch = {best_epoch + 1}',\n",
    "            size=10,\n",
    "            alpha=0.8,\n",
    "            rotation='vertical',\n",
    "            ha=\"center\",\n",
    "            va=\"bottom\",\n",
    "            bbox=dict(boxstyle=\"round\",\n",
    "                    ec=(1., 0.5, 0.5),\n",
    "                    fc=(1., 0.8, 0.8),\n",
    "                    )\n",
    "            )\n",
    "\n",
    "plt.show()"
   ]
  },
  {
   "cell_type": "markdown",
   "id": "c645bc08",
   "metadata": {},
   "source": [
    "Загрузим лучшую обученную модель"
   ]
  },
  {
   "cell_type": "code",
   "execution_count": 50,
   "id": "5e9ed906",
   "metadata": {},
   "outputs": [
    {
     "data": {
      "text/plain": [
       "<All keys matched successfully>"
      ]
     },
     "execution_count": 50,
     "metadata": {},
     "output_type": "execute_result"
    }
   ],
   "source": [
    "model.load_state_dict(torch.load(PATH_MODEL, weights_only=True))"
   ]
  },
  {
   "cell_type": "markdown",
   "id": "ac2ca767",
   "metadata": {},
   "source": [
    "Напишем функцию для генерации текста, которая будет сразу проводить ткоенезацию в прямом и обратном направлении."
   ]
  },
  {
   "cell_type": "code",
   "execution_count": 51,
   "id": "c3b71db0",
   "metadata": {},
   "outputs": [],
   "source": [
    "def generate(model: LSTMGenerator, text: str, max_token:int = 20) -> str:\n",
    "    token = tokenizer(text.lower())\n",
    "    text = token['input_ids']\n",
    "    masks = token['attention_mask']\n",
    "    answ = model.generate(torch.tensor(text, dtype=torch.long).unsqueeze(dim=1).to(device), torch.tensor(masks, dtype=torch.long).unsqueeze(dim=1).to(device), max_token)\n",
    "    answ = tokenizer.decode(answ[0][len(text):])\n",
    "    return answ"
   ]
  },
  {
   "cell_type": "code",
   "execution_count": 52,
   "id": "0c092f8e",
   "metadata": {},
   "outputs": [
    {
     "data": {
      "text/plain": [
       "\". sorry. i'm feeling sick. i'm sick. i'm sick. i'm\""
      ]
     },
     "execution_count": 52,
     "metadata": {},
     "output_type": "execute_result"
    }
   ],
   "source": [
    "generate(model, 'I want to')\n"
   ]
  },
  {
   "cell_type": "code",
   "execution_count": 78,
   "id": "cb912214",
   "metadata": {},
   "outputs": [
    {
     "data": {
      "text/plain": [
       "\" sad. i'm so tired. i'm so tired. i'm tired. i'm\""
      ]
     },
     "execution_count": 78,
     "metadata": {},
     "output_type": "execute_result"
    }
   ],
   "source": [
    "generate(model, 'This comment is')"
   ]
  },
  {
   "cell_type": "markdown",
   "id": "f4ace33a",
   "metadata": {},
   "source": [
    "Моделька иногда галюцианирует и зацикливается, но местами смысл и правильный порядок слов наблюдается."
   ]
  },
  {
   "cell_type": "markdown",
   "id": "9b691d86",
   "metadata": {},
   "source": [
    "Пройдёмся по тестовому датасету и посмотрим на качество модели."
   ]
  },
  {
   "cell_type": "code",
   "execution_count": 54,
   "id": "1c614c99",
   "metadata": {},
   "outputs": [
    {
     "name": "stdout",
     "output_type": "stream",
     "text": [
      "rouge1: 0.0275\n",
      "rouge2: 0.0021\n",
      "rougeL: 0.0258\n",
      "rougeLsum: 0.0258\n"
     ]
    }
   ],
   "source": [
    "model.eval()\n",
    "preds, trues = [], []\n",
    "\n",
    "for batch in test_dataloader:\n",
    "    data = batch['data'].to(device)\n",
    "    masks = batch['masks'].to(device)\n",
    "    end_text = batch['end_text']\n",
    "\n",
    "    with torch.no_grad():\n",
    "        output = model.generate(data, masks)\n",
    "        preds += output\n",
    "        trues += end_text\n",
    "\n",
    "preds = [tokenizer.decode(pred) for pred in preds]\n",
    "trues = [tokenizer.decode(true) for true in trues]\n",
    "\n",
    "results = rouge.compute(predictions = preds, references = trues)\n",
    "\n",
    "for key, value in results.items():\n",
    "    print(f\"{key}: {value:.4f}\") "
   ]
  },
  {
   "cell_type": "code",
   "execution_count": 79,
   "id": "62104955",
   "metadata": {},
   "outputs": [
    {
     "data": {
      "text/plain": [
       "0"
      ]
     },
     "execution_count": 79,
     "metadata": {},
     "output_type": "execute_result"
    }
   ],
   "source": [
    "del model\n",
    "gc.collect()\n",
    "torch.cuda.empty_cache()\n",
    "gc.collect()"
   ]
  },
  {
   "cell_type": "markdown",
   "id": "77193ac7",
   "metadata": {},
   "source": [
    "### Использование предобученной модели трансформера"
   ]
  },
  {
   "cell_type": "markdown",
   "id": "ccd3eaae",
   "metadata": {},
   "source": [
    "В качестве предобученной модели будем использовать distilgpt2"
   ]
  },
  {
   "cell_type": "code",
   "execution_count": 135,
   "id": "06198d41",
   "metadata": {},
   "outputs": [
    {
     "name": "stderr",
     "output_type": "stream",
     "text": [
      "Device set to use cuda\n"
     ]
    }
   ],
   "source": [
    "generator = pipeline(\"text-generation\", model=\"distilgpt2\", device=device, pad_token_id=tokenizer.eos_token_id)"
   ]
  },
  {
   "cell_type": "markdown",
   "id": "722e5e93",
   "metadata": {},
   "source": [
    "Проверим как генерируется текст в тех же примерах, что и ЛСТМ."
   ]
  },
  {
   "cell_type": "code",
   "execution_count": 87,
   "id": "c219ecc6",
   "metadata": {},
   "outputs": [
    {
     "name": "stderr",
     "output_type": "stream",
     "text": [
      "Setting `pad_token_id` to `eos_token_id`:50256 for open-end generation.\n",
      "Both `max_new_tokens` (=256) and `max_length`(=20) seem to have been set. `max_new_tokens` will take precedence. Please refer to the documentation for more information. (https://huggingface.co/docs/transformers/main/en/main_classes/text_generation)\n"
     ]
    },
    {
     "name": "stdout",
     "output_type": "stream",
     "text": [
      "I want to know what happens when we're not playing with the other team.”\n"
     ]
    }
   ],
   "source": [
    "result = generator(\"I want to\", max_length=20, do_sample=True)\n",
    "print(result[0][\"generated_text\"]) "
   ]
  },
  {
   "cell_type": "code",
   "execution_count": 119,
   "id": "999537c4",
   "metadata": {},
   "outputs": [
    {
     "name": "stderr",
     "output_type": "stream",
     "text": [
      "Setting `pad_token_id` to `eos_token_id`:50256 for open-end generation.\n",
      "Both `max_new_tokens` (=256) and `max_length`(=20) seem to have been set. `max_new_tokens` will take precedence. Please refer to the documentation for more information. (https://huggingface.co/docs/transformers/main/en/main_classes/text_generation)\n"
     ]
    },
    {
     "name": "stdout",
     "output_type": "stream",
     "text": [
      "This comment is not for sale.\n",
      "\n",
      "\n",
      "\n",
      "\n",
      "\n",
      "\n",
      "\n",
      "To make this a reality, let me tell you that I am a gamer about the importance of a high-level game which is about to change.\n",
      "And if so, then I would like to share your thoughts on the current game and its development.\n",
      "There are many reasons why I hope that this article will help you to make more informed comments and help you to make a better game. I hope that you will be able to learn more about this game and its development on the future.\n",
      "Here is a few more thoughts that I wish you all the best in your life.\n"
     ]
    }
   ],
   "source": [
    "result = generator(\"This comment is\", max_length=20, do_sample=True)\n",
    "print(result[0][\"generated_text\"]) "
   ]
  },
  {
   "cell_type": "markdown",
   "id": "6da22fae",
   "metadata": {},
   "source": [
    "Текст получается более связанным, хотя модель тоже галлюцианирует."
   ]
  },
  {
   "cell_type": "markdown",
   "id": "1d430ff9",
   "metadata": {},
   "source": [
    "Посмотрим наметрики трансформера на тестовом датасете (Поскольку генерацию запимает примерно 11 секунд на 100 строк, то для анализа будем рассматривать 3000 строк)."
   ]
  },
  {
   "cell_type": "code",
   "execution_count": 139,
   "id": "8f8d2627",
   "metadata": {},
   "outputs": [],
   "source": [
    "test_data = [tokenizer.decode(data) for data in df_test.loc[:3000, 'data']]\n",
    "trues = [tokenizer.decode(end) for end in df_test.loc[:3000, 'end_text']]"
   ]
  },
  {
   "cell_type": "code",
   "execution_count": 140,
   "id": "4cb21faf",
   "metadata": {},
   "outputs": [],
   "source": [
    "result = generator(test_data, max_new_tokens=20, do_sample=True)"
   ]
  },
  {
   "cell_type": "code",
   "execution_count": 141,
   "id": "aa833ccf",
   "metadata": {},
   "outputs": [],
   "source": [
    "preds = [res[0][\"generated_text\"] for res in result]"
   ]
  },
  {
   "cell_type": "markdown",
   "id": "1bc92442",
   "metadata": {},
   "source": [
    "Удалим в предиктах, ту часть которая подавалась на вход."
   ]
  },
  {
   "cell_type": "code",
   "execution_count": 152,
   "id": "e432a8d3",
   "metadata": {},
   "outputs": [],
   "source": [
    "for i, (pred, data) in enumerate(zip(preds, test_data)):\n",
    "    preds[i] = pred[len(data):]"
   ]
  },
  {
   "cell_type": "code",
   "execution_count": 154,
   "id": "8f15e926",
   "metadata": {},
   "outputs": [
    {
     "name": "stdout",
     "output_type": "stream",
     "text": [
      "rouge1: 0.0384\n",
      "rouge2: 0.0036\n",
      "rougeL: 0.0378\n",
      "rougeLsum: 0.0378\n"
     ]
    }
   ],
   "source": [
    "results = rouge.compute(predictions = preds, references = trues)\n",
    "for key, value in results.items():\n",
    "    print(f\"{key}: {value:.4f}\") "
   ]
  },
  {
   "cell_type": "markdown",
   "id": "5de9e2e9",
   "metadata": {},
   "source": [
    "Как видим качество не много лучше чем у нашей модели, но тоже не очень высокое, вероятнее всего это связано с тем, что твити, сами по себе весьма специфичный домен. Помотрим на первые 10 генераций"
   ]
  },
  {
   "cell_type": "code",
   "execution_count": 155,
   "id": "2cfffbf0",
   "metadata": {},
   "outputs": [
    {
     "data": {
      "text/plain": [
       "['!!\\n\\n\\n\\n\\n\\n\\n\\n\\n\\n\\n\\n\\n\\n\\n\\n\\n\\n\\n',\n",
       " ' up their work.\\n\\n\\n\\n\\n\\n\\n\\n\\n\\n\\n\\n\\n\\n\\n\\n',\n",
       " 'up&quot;up&quot;up&quot;up&quot;',\n",
       " 'oompp.\\n\\n\\n\\n\\n\\n\\n\\n\\n\\n\\n\\n\\n\\n\\n\\n',\n",
       " '\\n\\n\\n\\n\\n\\n\\n\\n\\n\\n\\n\\n\\n\\n\\n\\n\\n\\n\\n\\n',\n",
       " ' take advantage of...\\n\\n\\n\\n\\n\\n\\n\\n\\n\\n\\n\\n\\n\\n\\n\\n',\n",
       " \" the entrance. I'll be back in no time to answer this question again. The main thing here\",\n",
       " \"'s really been a long day, though i'm not really sure why. i guess because i've\",\n",
       " \" time for them to break the news.\\n\\n\\n\\nIt's still not clear if the publisher\",\n",
       " \"iting. I'm not going to lie if I told them to. That's a lie, man\"]"
      ]
     },
     "execution_count": 155,
     "metadata": {},
     "output_type": "execute_result"
    }
   ],
   "source": [
    "preds[:10]"
   ]
  },
  {
   "cell_type": "markdown",
   "id": "c72ab77e",
   "metadata": {},
   "source": [
    "Видно, что иногда модель зацикливается и она тоже галюционирует."
   ]
  },
  {
   "cell_type": "markdown",
   "id": "046fcf0a",
   "metadata": {},
   "source": [
    "## Выводы"
   ]
  },
  {
   "cell_type": "markdown",
   "id": "c96a5a88",
   "metadata": {},
   "source": [
    "В данном проекте была рассмотрена задача генерации текста при помощи нейросетей. Проект условно можно разделить на 3 части:\n",
    "1. В первой части нами был проанализирован и почищен датасет товитов было установленно, что как правило твиты не превышают 35 слов. так же нами была проведена токенизация текста и выделены тренировочные, валидационные и тестовые данные.\n",
    "2. Во второй части были созданны кастомные классы датасетов и функция collate_fn, такж был создан класс модели на базе архитектуры LSTM. Модель была обучена и проверено качество генерации текста. Модель можно попробовать доработать (возможно, уменьшение lr позволит сойтись до более низкого значения лосса, хотя и увеличит время обучения; так же стоит попробовать боле жёстко почистить исходные данные и убрать повторяющиеся знаки препинания, что позволит модели реже зацикливаться).\n",
    "3. В третьей части была рассмотрена предобученная модель архитектуры трансформера, она генерирует более связный текст и на тестовых данных показала себя немного лучше чем LSTM, хотя она тоже иногда галлюционировала."
   ]
  },
  {
   "cell_type": "markdown",
   "id": "9e29ed23",
   "metadata": {},
   "source": [
    "<div class=\"alert alert-success\" style=\"border-radius: 15px; box-shadow: 4px 4px 4px; border: 1px solid \">\n",
    "<b> Комментарий ревьюера  ✔️</b>\n",
    "    \n",
    "Хорошо структурированные выводы по итогам работы. Отлично!"
   ]
  },
  {
   "cell_type": "markdown",
   "id": "449a322f",
   "metadata": {},
   "source": [
    "<div class=\"alert alert-success\" style=\"border-radius: 15px; box-shadow: 4px 4px 4px; border: 1px solid \">\n",
    "<b> Комментарий ревьюера  ✔️</b>\n",
    "    \n",
    "Отличная работа над проектом! Грамотный подход к решению сложной задачи: от тщательного EDA и качественной предобработки данных с продуманной обработкой специфики твитов, через грамотную реализацию датасетов и работы с последовательностями разной длины, до создания полноценной LSTM-модели с циклом обучения и валидации. Особенно радует твое внимание к деталям - очистке памяти, визуализации, логированию процесса и комплексному сравнению с трансформерной моделью.\n",
    "\n",
    "Ты успешно справился с ключевыми этапами ML-пайплайна, показал умение работать с разными архитектурами и критически анализировать результаты. Полученные метрики - хороший старт для задачи генерации текста, которая объективно сложна. Продолжай в том же духе!"
   ]
  },
  {
   "cell_type": "code",
   "execution_count": null,
   "id": "56cc0081",
   "metadata": {},
   "outputs": [],
   "source": []
  }
 ],
 "metadata": {
  "kernelspec": {
   "display_name": ".venv",
   "language": "python",
   "name": "python3"
  },
  "language_info": {
   "codemirror_mode": {
    "name": "ipython",
    "version": 3
   },
   "file_extension": ".py",
   "mimetype": "text/x-python",
   "name": "python",
   "nbconvert_exporter": "python",
   "pygments_lexer": "ipython3",
   "version": "3.11.9"
  },
  "toc": {
   "base_numbering": 1,
   "nav_menu": {},
   "number_sections": true,
   "sideBar": true,
   "skip_h1_title": true,
   "title_cell": "Table of Contents",
   "title_sidebar": "Contents",
   "toc_cell": false,
   "toc_position": {},
   "toc_section_display": true,
   "toc_window_display": false
  }
 },
 "nbformat": 4,
 "nbformat_minor": 5
}
