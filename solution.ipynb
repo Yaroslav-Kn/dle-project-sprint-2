{
 "cells": [
  {
   "cell_type": "markdown",
   "id": "7dc58254",
   "metadata": {},
   "source": [
    "# Нейросеть для автодополнения текстов"
   ]
  },
  {
   "cell_type": "markdown",
   "id": "86848cce",
   "metadata": {},
   "source": [
    "Проект направлен на обучение нейронной сети для автодополнения текста"
   ]
  },
  {
   "cell_type": "markdown",
   "id": "da31a7d5",
   "metadata": {},
   "source": [
    "Пропишим необходимые импорты и пути."
   ]
  },
  {
   "cell_type": "code",
   "execution_count": 1,
   "id": "a24f5196",
   "metadata": {},
   "outputs": [
    {
     "name": "stderr",
     "output_type": "stream",
     "text": [
      "d:\\Обучение\\Обучение_DL\\sprint_2_rnn\\project\\.venv\\Lib\\site-packages\\tqdm\\auto.py:21: TqdmWarning: IProgress not found. Please update jupyter and ipywidgets. See https://ipywidgets.readthedocs.io/en/stable/user_install.html\n",
      "  from .autonotebook import tqdm as notebook_tqdm\n"
     ]
    }
   ],
   "source": [
    "from collections import Counter\n",
    "\n",
    "import pandas as pd\n",
    "\n",
    "import re\n",
    "\n",
    "import torch\n",
    "from torch import nn\n",
    "from torch.utils.data import Dataset, DataLoader\n",
    "\n",
    "from transformers import AutoTokenizer\n",
    "\n",
    "import matplotlib.pyplot as plt\n",
    "\n",
    "from tqdm import tqdm\n",
    "\n",
    "from sklearn.model_selection import train_test_split\n",
    "\n",
    "import evaluate"
   ]
  },
  {
   "cell_type": "code",
   "execution_count": null,
   "id": "1dccae93",
   "metadata": {},
   "outputs": [],
   "source": [
    "PATH_ROW_DATA = 'data/raw_dataset.txt'\n",
    "PATH_PROCESSED_DATA = 'data/processed.csv'\n",
    "PATH_TRAIN_DATA = 'data/train.csv'\n",
    "PATH_VALID_DATA = 'data/valid.csv'\n",
    "PATH_TEST_DATA = 'data/test.csv'"
   ]
  },
  {
   "cell_type": "code",
   "execution_count": 3,
   "id": "15a1307b",
   "metadata": {},
   "outputs": [],
   "source": [
    "RANDOM_SEED = 123"
   ]
  },
  {
   "cell_type": "markdown",
   "id": "898e8415",
   "metadata": {},
   "source": [
    "## EDA & Preprocessing"
   ]
  },
  {
   "cell_type": "markdown",
   "id": "34ca26b4",
   "metadata": {},
   "source": [
    "### Предобработка и исследование сырого датасета"
   ]
  },
  {
   "cell_type": "markdown",
   "id": "d2fe9f44",
   "metadata": {},
   "source": [
    "Прочитаем данные и посмотрим, что они из себя представляют (выведем первые 10 строк)"
   ]
  },
  {
   "cell_type": "code",
   "execution_count": 4,
   "id": "a52dab21",
   "metadata": {},
   "outputs": [],
   "source": [
    "with open(PATH_ROW_DATA, 'r', encoding='utf-8') as file:\n",
    "    texts = file.readlines()"
   ]
  },
  {
   "cell_type": "code",
   "execution_count": 5,
   "id": "ecf2aa13",
   "metadata": {},
   "outputs": [
    {
     "data": {
      "text/plain": [
       "[\"@switchfoot http://twitpic.com/2y1zl - Awww, that's a bummer.  You shoulda got David Carr of Third Day to do it. ;D\\n\",\n",
       " \"is upset that he can't update his Facebook by texting it... and might cry as a result  School today also. Blah!\\n\",\n",
       " '@Kenichan I dived many times for the ball. Managed to save 50%  The rest go out of bounds\\n',\n",
       " 'my whole body feels itchy and like its on fire \\n',\n",
       " \"@nationwideclass no, it's not behaving at all. i'm mad. why am i here? because I can't see you all over there. \\n\",\n",
       " '@Kwesidei not the whole crew \\n',\n",
       " 'Need a hug \\n',\n",
       " \"@LOLTrish hey  long time no see! Yes.. Rains a bit ,only a bit  LOL , I'm fine thanks , how's you ?\\n\",\n",
       " \"@Tatiana_K nope they didn't have it \\n\",\n",
       " '@twittera que me muera ? \\n']"
      ]
     },
     "execution_count": 5,
     "metadata": {},
     "output_type": "execute_result"
    }
   ],
   "source": [
    "texts[:10]"
   ]
  },
  {
   "cell_type": "markdown",
   "id": "e051ae1d",
   "metadata": {},
   "source": [
    "В данных видны следующие проблемы:\n",
    "1. Некоторые данные начинаютс с указания аккаунта который писал данный твит, а некоторые нет, поэтому эту часть необходимо удалить.\n",
    "2. Есть ссылки, поэтому их тоже необходимо зачистить.\n",
    "3. Все твиты из выведенных заканчиваются симоволом переноса строки, это тоже необходимо будет почистить.\n",
    "4. Есть смайлики. Необходимо посмотреть это только классические смайлики или ещё есть в формате \\*смайлик\\*.\n",
    "5. Необходимо всё привести к нижнему регистру."
   ]
  },
  {
   "cell_type": "markdown",
   "id": "92879541",
   "metadata": {},
   "source": [
    "Напишем функцию, которая решает данные проблемы."
   ]
  },
  {
   "cell_type": "code",
   "execution_count": 6,
   "id": "8982a1f2",
   "metadata": {},
   "outputs": [],
   "source": [
    "def clean_text(text: str) -> str:\n",
    "    text = text.lower()\n",
    "    text = re.sub(r'\\w*@\\w*', ' ', text) # убираем указани аккаунта и почты\n",
    "    text = re.sub(r'http\\S*', ' ', text) # убираем адреса\n",
    "\n",
    "    text = re.sub(r\"[:;=]['\\-]?[)d(p]+\", ' ', text) # убираем классические смайлики\n",
    "    text = re.sub(r'\\*\\w*\\*', ' ', text) # убираем смайлики прописанные в формате слов\n",
    "    # убираем самйлики в формате кодов\n",
    "    regrex_pattern = re.compile(pattern = \"[\"\n",
    "        u\"\\U0001F600-\\U0001F64F\"  # emoticons\n",
    "        u\"\\U0001F300-\\U0001F5FF\"  # symbols & pictographs\n",
    "        u\"\\U0001F680-\\U0001F6FF\"  # transport & map symbols\n",
    "        u\"\\U0001F1E0-\\U0001F1FF\"  # flags (iOS)\n",
    "                            \"]+\", flags = re.UNICODE)\n",
    "    text = regrex_pattern.sub(r'',text)\n",
    "\n",
    "    text = re.sub(r'\\s+([.,!?;:])', r'\\1', text) # убираем висячие знаки припинания\n",
    "    re.sub(r'([.,!?;:])([^\\s])', r'\\1 \\2', text) # добавляем пробелы после знаков припинания, если их нет\n",
    "\n",
    "    # заменяем все возможные пробелы, переносы и т.д. на стандартный символ пробела и затем заменяем 2 и более пробелов на 1\n",
    "    text = re.sub(r'_x000d_\\n', ' ', text)\n",
    "    text = re.sub(r'^\\s+|\\n', ' ', text)\n",
    "    text = re.sub(r'  ', ' ', text)\n",
    "    text = re.sub(r'^ +| +$', '', text) # убираем пробелы в начале и конце строки\n",
    "    return text"
   ]
  },
  {
   "cell_type": "markdown",
   "id": "e4f2b06f",
   "metadata": {},
   "source": [
    "Протестируем на первом примере"
   ]
  },
  {
   "cell_type": "code",
   "execution_count": 7,
   "id": "9646d953",
   "metadata": {},
   "outputs": [
    {
     "data": {
      "text/plain": [
       "\"- awww, that's a bummer. you shoulda got david carr of third day to do it.\""
      ]
     },
     "execution_count": 7,
     "metadata": {},
     "output_type": "execute_result"
    }
   ],
   "source": [
    "clean_text(texts[0])"
   ]
  },
  {
   "cell_type": "markdown",
   "id": "921b043a",
   "metadata": {},
   "source": [
    "Всё отработало корректно. Почистим все данные и выведем первые 10 примеров."
   ]
  },
  {
   "cell_type": "code",
   "execution_count": 8,
   "id": "4244df8e",
   "metadata": {},
   "outputs": [
    {
     "name": "stderr",
     "output_type": "stream",
     "text": [
      "Очистка тестка: 100%|██████████| 1600498/1600498 [00:28<00:00, 55691.39it/s]\n"
     ]
    }
   ],
   "source": [
    "texts = [clean_text(text) for text in tqdm(texts, desc='Очистка тестка')]"
   ]
  },
  {
   "cell_type": "code",
   "execution_count": 9,
   "id": "d5a50216",
   "metadata": {},
   "outputs": [
    {
     "data": {
      "text/plain": [
       "[\"- awww, that's a bummer. you shoulda got david carr of third day to do it.\",\n",
       " \"is upset that he can't update his facebook by texting it... and might cry as a result school today also. blah!\",\n",
       " 'i dived many times for the ball. managed to save 50% the rest go out of bounds',\n",
       " 'my whole body feels itchy and like its on fire',\n",
       " \"no, it's not behaving at all. i'm mad. why am i here? because i can't see you all over there.\",\n",
       " 'not the whole crew',\n",
       " 'need a hug',\n",
       " \"hey long time no see! yes.. rains a bit,only a bit lol, i'm fine thanks, how's you?\",\n",
       " \"nope they didn't have it\",\n",
       " 'que me muera?']"
      ]
     },
     "execution_count": 9,
     "metadata": {},
     "output_type": "execute_result"
    }
   ],
   "source": [
    "texts[:10]"
   ]
  },
  {
   "cell_type": "markdown",
   "id": "a293beba",
   "metadata": {},
   "source": [
    "Посчитаем количество слов в предложениях."
   ]
  },
  {
   "cell_type": "code",
   "execution_count": 10,
   "id": "c727bf3f",
   "metadata": {},
   "outputs": [
    {
     "data": {
      "image/png": "[encoded data removed]",
      "text/plain": [
       "<Figure size 1000x600 with 1 Axes>"
      ]
     },
     "metadata": {},
     "output_type": "display_data"
    }
   ],
   "source": [
    "word_counts = [len(text.split(' ')) for text in texts]\n",
    "\n",
    "plt.figure(figsize=(10, 6))\n",
    "plt.hist(word_counts, bins=50, edgecolor='black')\n",
    "plt.title(\"Распределение количества слов в текстах\")\n",
    "plt.xlabel(\"Количество слов\")\n",
    "plt.ylabel(\"Частота\")\n",
    "plt.grid(True)\n",
    "plt.show() "
   ]
  },
  {
   "cell_type": "markdown",
   "id": "2302d22f",
   "metadata": {},
   "source": [
    "Большинство твитов укладывается в 25 слов, но есть редкие твиты в которых порядка 60 слов. Так же есть много твитов состоящих всего из одного ответа."
   ]
  },
  {
   "cell_type": "markdown",
   "id": "641abedf",
   "metadata": {},
   "source": [
    "Посмотрим насколько часто каждое слово встречается в корпусе."
   ]
  },
  {
   "cell_type": "code",
   "execution_count": 11,
   "id": "46fe0fdf",
   "metadata": {},
   "outputs": [],
   "source": [
    "res = []\n",
    "[res.extend(text.split(' ')) for text in texts]\n",
    "\n",
    "count_of_words = Counter(res)"
   ]
  },
  {
   "cell_type": "markdown",
   "id": "cdb1dc61",
   "metadata": {},
   "source": [
    "Посмотрим на наиболее частые слова"
   ]
  },
  {
   "cell_type": "code",
   "execution_count": 12,
   "id": "1836a57f",
   "metadata": {},
   "outputs": [
    {
     "data": {
      "text/plain": [
       "[('i', 746521),\n",
       " ('to', 559693),\n",
       " ('the', 518791),\n",
       " ('a', 376435),\n",
       " ('my', 312797),\n",
       " ('and', 294971),\n",
       " ('you', 236376),\n",
       " ('is', 230816),\n",
       " ('for', 213738),\n",
       " ('in', 209807)]"
      ]
     },
     "execution_count": 12,
     "metadata": {},
     "output_type": "execute_result"
    }
   ],
   "source": [
    "count_of_words.most_common(10)"
   ]
  },
  {
   "cell_type": "markdown",
   "id": "8612478d",
   "metadata": {},
   "source": [
    "Ожидаемо это местоимения, артикли и предлоги"
   ]
  },
  {
   "cell_type": "markdown",
   "id": "e1437e33",
   "metadata": {},
   "source": [
    "Теперь на наиболее редкие"
   ]
  },
  {
   "cell_type": "code",
   "execution_count": 13,
   "id": "77dbcdf2",
   "metadata": {},
   "outputs": [
    {
     "data": {
      "text/plain": [
       "[('#flockofseagullsweregeopoliticallycorrect', 1),\n",
       " ('texn3rds', 1),\n",
       " ('calcio1', 1),\n",
       " ('indesign?:', 1),\n",
       " ('typeset', 1),\n",
       " ('waster)', 1),\n",
       " ('flay...', 1),\n",
       " ('(updated:', 1),\n",
       " ('$palm', 1)]"
      ]
     },
     "execution_count": 13,
     "metadata": {},
     "output_type": "execute_result"
    }
   ],
   "source": [
    "count_of_words.most_common()[:-10:-1]"
   ]
  },
  {
   "cell_type": "markdown",
   "id": "422bf764",
   "metadata": {},
   "source": [
    "Редкими оказались хэштеги, опечатки, в том числе с заменок букв на цифры, просто редкие слова плюс слова со знаками препинания (но в этом виновата наша разбивка)."
   ]
  },
  {
   "cell_type": "markdown",
   "id": "b0f9c0e7",
   "metadata": {},
   "source": [
    "### Токенизация и создание датасетов"
   ]
  },
  {
   "cell_type": "markdown",
   "id": "5c8cb9bd",
   "metadata": {},
   "source": [
    "Теперь проведём токенизацию нашего датасета."
   ]
  },
  {
   "cell_type": "code",
   "execution_count": 14,
   "id": "7be8bb66",
   "metadata": {},
   "outputs": [],
   "source": [
    "model_name = \"bert-base-uncased\"\n",
    "tokenizer = AutoTokenizer.from_pretrained(model_name)"
   ]
  },
  {
   "cell_type": "code",
   "execution_count": 15,
   "id": "177fbbaf",
   "metadata": {},
   "outputs": [
    {
     "name": "stderr",
     "output_type": "stream",
     "text": [
      "Очистка тестка: 100%|██████████| 1600498/1600498 [02:25<00:00, 10995.21it/s]\n"
     ]
    }
   ],
   "source": [
    "token_texts = [tokenizer(text, truncation=True)['input_ids'] for text in tqdm(texts, desc='Очистка тестка')]"
   ]
  },
  {
   "cell_type": "markdown",
   "id": "a26d457a",
   "metadata": {},
   "source": [
    "Посмотрим на результат"
   ]
  },
  {
   "cell_type": "code",
   "execution_count": 16,
   "id": "525d655d",
   "metadata": {},
   "outputs": [
    {
     "data": {
      "text/plain": [
       "[101,\n",
       " 1011,\n",
       " 22091,\n",
       " 2860,\n",
       " 2860,\n",
       " 1010,\n",
       " 2008,\n",
       " 1005,\n",
       " 1055,\n",
       " 1037,\n",
       " 26352,\n",
       " 5017,\n",
       " 1012,\n",
       " 2017,\n",
       " 2323,\n",
       " 2050,\n",
       " 2288,\n",
       " 2585,\n",
       " 12385,\n",
       " 1997,\n",
       " 2353,\n",
       " 2154,\n",
       " 2000,\n",
       " 2079,\n",
       " 2009,\n",
       " 1012,\n",
       " 102]"
      ]
     },
     "execution_count": 16,
     "metadata": {},
     "output_type": "execute_result"
    }
   ],
   "source": [
    "token_texts[0]"
   ]
  },
  {
   "cell_type": "markdown",
   "id": "f67b2003",
   "metadata": {},
   "source": [
    "Иеперь нам необходимо сформировать два списка: один данные для обучения, второй - цели обучения."
   ]
  },
  {
   "cell_type": "code",
   "execution_count": null,
   "id": "c12fd4f5",
   "metadata": {},
   "outputs": [],
   "source": [
    "def get_data_and_target(token_texts: list[str]) -> tuple[list[str], list[str]]:\n",
    "    set_tuple = set()\n",
    "    data_list = []\n",
    "    target_list = []\n",
    "    for text in tqdm(token_texts, desc='Создание списков для обучения'):\n",
    "        for idx_target in range(1, len(text)):\n",
    "            # Добавляем только уникальные сочетания data/target чтобы избежать дублей\n",
    "            item = ' '.join([str(i) for i in text[:idx_target + 1]])\n",
    "            if (item) not in set_tuple:\n",
    "                set_tuple.add(item)\n",
    "                data_list.append(text[:idx_target])\n",
    "                target_list.append(text[idx_target])\n",
    "    return data_list, target_list"
   ]
  },
  {
   "cell_type": "code",
   "execution_count": 25,
   "id": "98ea7bf7",
   "metadata": {},
   "outputs": [
    {
     "name": "stderr",
     "output_type": "stream",
     "text": [
      "Создание списков для обучения: 100%|██████████| 1600498/1600498 [01:24<00:00, 18837.83it/s]\n"
     ]
    }
   ],
   "source": [
    "data_list, target_list = get_data_and_target(token_texts)"
   ]
  },
  {
   "cell_type": "markdown",
   "id": "b419b0af",
   "metadata": {},
   "source": [
    "Посмотрим корректно ли всё отработало"
   ]
  },
  {
   "cell_type": "code",
   "execution_count": 26,
   "id": "b189d53f",
   "metadata": {},
   "outputs": [
    {
     "data": {
      "text/plain": [
       "[[101],\n",
       " [101, 1011],\n",
       " [101, 1011, 22091],\n",
       " [101, 1011, 22091, 2860],\n",
       " [101, 1011, 22091, 2860, 2860]]"
      ]
     },
     "execution_count": 26,
     "metadata": {},
     "output_type": "execute_result"
    }
   ],
   "source": [
    "data_list[:5]"
   ]
  },
  {
   "cell_type": "code",
   "execution_count": 27,
   "id": "e8bbc3a9",
   "metadata": {},
   "outputs": [
    {
     "data": {
      "text/plain": [
       "[1011, 22091, 2860, 2860, 1010]"
      ]
     },
     "execution_count": 27,
     "metadata": {},
     "output_type": "execute_result"
    }
   ],
   "source": [
    "target_list[:5]"
   ]
  },
  {
   "cell_type": "markdown",
   "id": "f96c9e3b",
   "metadata": {},
   "source": [
    "Всё отработало корректно. Теперь создадим датафрейм и сохраним его"
   ]
  },
  {
   "cell_type": "code",
   "execution_count": 28,
   "id": "2d5b97d4",
   "metadata": {},
   "outputs": [
    {
     "data": {
      "text/html": [
       "<div>\n",
       "<style scoped>\n",
       "    .dataframe tbody tr th:only-of-type {\n",
       "        vertical-align: middle;\n",
       "    }\n",
       "\n",
       "    .dataframe tbody tr th {\n",
       "        vertical-align: top;\n",
       "    }\n",
       "\n",
       "    .dataframe thead th {\n",
       "        text-align: right;\n",
       "    }\n",
       "</style>\n",
       "<table border=\"1\" class=\"dataframe\">\n",
       "  <thead>\n",
       "    <tr style=\"text-align: right;\">\n",
       "      <th></th>\n",
       "      <th>data</th>\n",
       "      <th>target</th>\n",
       "    </tr>\n",
       "  </thead>\n",
       "  <tbody>\n",
       "    <tr>\n",
       "      <th>0</th>\n",
       "      <td>[101]</td>\n",
       "      <td>1011</td>\n",
       "    </tr>\n",
       "    <tr>\n",
       "      <th>1</th>\n",
       "      <td>[101, 1011]</td>\n",
       "      <td>22091</td>\n",
       "    </tr>\n",
       "    <tr>\n",
       "      <th>2</th>\n",
       "      <td>[101, 1011, 22091]</td>\n",
       "      <td>2860</td>\n",
       "    </tr>\n",
       "    <tr>\n",
       "      <th>3</th>\n",
       "      <td>[101, 1011, 22091, 2860]</td>\n",
       "      <td>2860</td>\n",
       "    </tr>\n",
       "    <tr>\n",
       "      <th>4</th>\n",
       "      <td>[101, 1011, 22091, 2860, 2860]</td>\n",
       "      <td>1010</td>\n",
       "    </tr>\n",
       "  </tbody>\n",
       "</table>\n",
       "</div>"
      ],
      "text/plain": [
       "                             data  target\n",
       "0                           [101]    1011\n",
       "1                     [101, 1011]   22091\n",
       "2              [101, 1011, 22091]    2860\n",
       "3        [101, 1011, 22091, 2860]    2860\n",
       "4  [101, 1011, 22091, 2860, 2860]    1010"
      ]
     },
     "execution_count": 28,
     "metadata": {},
     "output_type": "execute_result"
    }
   ],
   "source": [
    "df = pd.DataFrame({\n",
    "    'data': data_list,\n",
    "    'target': target_list\n",
    "})\n",
    "df.head()"
   ]
  },
  {
   "cell_type": "code",
   "execution_count": 29,
   "id": "83a034d6",
   "metadata": {},
   "outputs": [
    {
     "data": {
      "text/plain": [
       "(24982596, 2)"
      ]
     },
     "execution_count": 29,
     "metadata": {},
     "output_type": "execute_result"
    }
   ],
   "source": [
    "df.shape"
   ]
  },
  {
   "cell_type": "markdown",
   "id": "00b4ab07",
   "metadata": {},
   "source": [
    "Сохраним полученный датафрейм"
   ]
  },
  {
   "cell_type": "code",
   "execution_count": 30,
   "id": "cebd88f3",
   "metadata": {},
   "outputs": [],
   "source": [
    "df.to_csv(PATH_PROCESSED_DATA, index=False)"
   ]
  },
  {
   "cell_type": "markdown",
   "id": "37d10028",
   "metadata": {},
   "source": [
    "Разделим датасет на тренировочный, валидационный и тестовый"
   ]
  },
  {
   "cell_type": "code",
   "execution_count": 31,
   "id": "afc71136",
   "metadata": {},
   "outputs": [],
   "source": [
    "df_train, df_test= train_test_split(df, test_size=0.4, random_state=RANDOM_SEED)\n",
    "df_valid, df_test = train_test_split(df_test, test_size=0.5, random_state=RANDOM_SEED)"
   ]
  },
  {
   "cell_type": "markdown",
   "id": "c5808acd",
   "metadata": {},
   "source": [
    "Выведем размеры получившихся датасетов"
   ]
  },
  {
   "cell_type": "code",
   "execution_count": 32,
   "id": "2de78614",
   "metadata": {},
   "outputs": [
    {
     "data": {
      "text/plain": [
       "((14989557, 2), (4996519, 2), (4996520, 2))"
      ]
     },
     "execution_count": 32,
     "metadata": {},
     "output_type": "execute_result"
    }
   ],
   "source": [
    "df_train.shape, df_valid.shape, df_test.shape"
   ]
  },
  {
   "cell_type": "markdown",
   "id": "3931834d",
   "metadata": {},
   "source": [
    "Сохраним их."
   ]
  },
  {
   "cell_type": "code",
   "execution_count": null,
   "id": "2271e12c",
   "metadata": {},
   "outputs": [],
   "source": []
  }
 ],
 "metadata": {
  "kernelspec": {
   "display_name": ".venv",
   "language": "python",
   "name": "python3"
  },
  "language_info": {
   "codemirror_mode": {
    "name": "ipython",
    "version": 3
   },
   "file_extension": ".py",
   "mimetype": "text/x-python",
   "name": "python",
   "nbconvert_exporter": "python",
   "pygments_lexer": "ipython3",
   "version": "3.11.9"
  }
 },
 "nbformat": 4,
 "nbformat_minor": 5
}
